{
  "nbformat": 4,
  "nbformat_minor": 0,
  "metadata": {
    "colab": {
      "name": "leaves_classification.ipynb",
      "provenance": []
    },
    "language_info": {
      "name": "python",
      "version": "3.6.4",
      "mimetype": "text/x-python",
      "codemirror_mode": {
        "name": "ipython",
        "version": 3
      },
      "pygments_lexer": "ipython3",
      "nbconvert_exporter": "python",
      "file_extension": ".py"
    },
    "kernelspec": {
      "display_name": "Python 3",
      "language": "python",
      "name": "python3"
    }
  },
  "cells": [
    {
      "cell_type": "code",
      "metadata": {
        "id": "SWp7lJpieliM",
        "outputId": "6923611a-8913-4055-a2ee-6107ccbea1c9",
        "trusted": false,
        "colab": {
          "base_uri": "https://localhost:8080/"
        }
      },
      "source": [
        "from google.colab import drive\n",
        "drive.mount('/content/drive')"
      ],
      "execution_count": 1,
      "outputs": [
        {
          "output_type": "stream",
          "name": "stdout",
          "text": [
            "Mounted at /content/drive\n"
          ]
        }
      ]
    },
    {
      "cell_type": "code",
      "metadata": {
        "_uuid": "8f2839f25d086af736a60e9eeb907d3b93b6e0e5",
        "_cell_guid": "b1076dfc-b9ad-4769-8c92-a6c4dae69d19",
        "trusted": true,
        "id": "6-iktFU8durW",
        "outputId": "5a6e827c-b767-48d0-d0d6-2c1074b4fe65",
        "colab": {
          "base_uri": "https://localhost:8080/"
        }
      },
      "source": [
        "# This Python 3 environment comes with many helpful analytics libraries installed\n",
        "# It is defined by the kaggle/python docker image: https://github.com/kaggle/docker-python\n",
        "# For example, here's several helpful packages to load in \n",
        "\n",
        "import numpy as np # linear algebra\n",
        "import pandas as pd # data processing, CSV file I/O (e.g. pd.read_csv)\n",
        "from matplotlib import pyplot as plt\n",
        "\n",
        "from sklearn.metrics import accuracy_score, log_loss\n",
        "from sklearn.model_selection import StratifiedShuffleSplit, cross_val_score, GridSearchCV\n",
        "from sklearn.gaussian_process import GaussianProcessClassifier\n",
        "from sklearn.gaussian_process.kernels import RBF\n",
        "from sklearn.linear_model import LogisticRegression\n",
        "from sklearn.preprocessing import StandardScaler\n",
        "from sklearn.naive_bayes import GaussianNB\n",
        "from sklearn.svm import SVC\n",
        "from sklearn.neighbors import KNeighborsClassifier\n",
        "from sklearn.tree import DecisionTreeClassifier\n",
        "from sklearn.ensemble import RandomForestClassifier\n",
        "from sklearn.discriminant_analysis import LinearDiscriminantAnalysis\n",
        "\n",
        "# Input data files are available in the \"../input/\" directory.\n",
        "# For example, running this (by clicking run or pressing Shift+Enter) will list the files in the input directory\n",
        "\n",
        "import os\n",
        "print(os.listdir(\"../content/drive/MyDrive/dataset/leaves/\"))\n",
        "\n",
        "# Any results you write to the current directory are saved as output."
      ],
      "execution_count": 6,
      "outputs": [
        {
          "output_type": "stream",
          "name": "stdout",
          "text": [
            "['test', 'train']\n"
          ]
        }
      ]
    },
    {
      "cell_type": "code",
      "metadata": {
        "_cell_guid": "79c7e3d0-c299-4dcb-8224-4455121ee9b0",
        "_uuid": "d629ff2d2480ee46fbb7e2d37f6b5fab8052498a",
        "trusted": true,
        "id": "vP7BJww1durd"
      },
      "source": [
        "train_set = pd.read_csv(\"../content/drive/MyDrive/dataset/leaves/train.csv\")\n",
        "test_set  = pd.read_csv(\"../content/drive/MyDrive/dataset/leaves/test.csv\")"
      ],
      "execution_count": 7,
      "outputs": []
    },
    {
      "cell_type": "code",
      "metadata": {
        "trusted": true,
        "id": "j2gZLT9A4OC3"
      },
      "source": [
        "from sklearn.preprocessing import LabelEncoder\n",
        "lb = LabelEncoder()\n",
        "labels = lb.fit_transform(train_set['label'])"
      ],
      "execution_count": 8,
      "outputs": []
    },
    {
      "cell_type": "code",
      "metadata": {
        "trusted": true,
        "id": "Cl40YgGk4OC5"
      },
      "source": [
        "test_ids = test_set.id\n",
        "\n",
        "train = train_set.drop(['id', 'label'], axis=1)\n",
        "test = test_set.drop(['id'], axis=1)\n",
        "sc = StandardScaler().fit(test)\n",
        "test_scaled = sc.transform(test)"
      ],
      "execution_count": 9,
      "outputs": []
    },
    {
      "cell_type": "code",
      "metadata": {
        "trusted": true,
        "id": "ymz8j5hRdurh"
      },
      "source": [
        "ss_split = StratifiedShuffleSplit(n_splits=10, test_size=0.25, random_state=0)\n",
        "ss_split.get_n_splits(train, labels)\n",
        "\n",
        "for train_index, test_index in ss_split.split(train, labels):   \n",
        "    x_train, x_test = train.values[train_index], train.values[test_index]\n",
        "    y_train, y_test = labels[train_index], labels[test_index]   "
      ],
      "execution_count": 10,
      "outputs": []
    },
    {
      "cell_type": "code",
      "metadata": {
        "trusted": true,
        "id": "HmFHa0Rgdurv"
      },
      "source": [
        "scaler = StandardScaler()\n",
        "\n",
        "x_train = scaler.fit_transform(x_train)\n",
        "x_test = scaler.fit_transform(x_test)"
      ],
      "execution_count": 11,
      "outputs": []
    },
    {
      "cell_type": "code",
      "metadata": {
        "trusted": true,
        "id": "7qNVQTuQ4ODC",
        "outputId": "39ef80cd-1eb5-4e09-cea9-24ed9aa8befd",
        "colab": {
          "base_uri": "https://localhost:8080/"
        }
      },
      "source": [
        "print(y_train.shape, y_test.shape)"
      ],
      "execution_count": 12,
      "outputs": [
        {
          "output_type": "stream",
          "name": "stdout",
          "text": [
            "(519,) (174,)\n"
          ]
        }
      ]
    },
    {
      "cell_type": "code",
      "metadata": {
        "trusted": true,
        "id": "fFRTFOQp4ODG",
        "outputId": "beb36f63-a7de-4e2c-d55a-0571bd93ea12",
        "colab": {
          "base_uri": "https://localhost:8080/"
        }
      },
      "source": [
        "print(x_train.shape, x_test.shape)"
      ],
      "execution_count": 13,
      "outputs": [
        {
          "output_type": "stream",
          "name": "stdout",
          "text": [
            "(519, 192) (174, 192)\n"
          ]
        }
      ]
    },
    {
      "cell_type": "markdown",
      "metadata": {
        "id": "gsI5iKBR4ODK"
      },
      "source": [
        "1. Naive Bayes"
      ]
    },
    {
      "cell_type": "code",
      "metadata": {
        "trusted": true,
        "id": "AAcaMA89dusV"
      },
      "source": [
        "#gaussian naive bayes\n",
        "gnb = GaussianNB().fit(x_train, y_train)"
      ],
      "execution_count": 14,
      "outputs": []
    },
    {
      "cell_type": "code",
      "metadata": {
        "trusted": true,
        "id": "6PR63qEYdusc"
      },
      "source": [
        "pred_gnb = gnb.predict_proba(x_test)"
      ],
      "execution_count": 15,
      "outputs": []
    },
    {
      "cell_type": "code",
      "metadata": {
        "trusted": true,
        "id": "AUdB3Idddusf",
        "outputId": "270b0228-4afc-4ed1-f87a-9c3b16faeadb",
        "colab": {
          "base_uri": "https://localhost:8080/"
        }
      },
      "source": [
        "print(\"Accuracy: %.3f\"\n",
        "      % (accuracy_score(y_test, gnb.predict(x_test))))\n",
        "print(\"Log-loss: %.3f\"\n",
        "      % (log_loss(y_test, pred_gnb)))"
      ],
      "execution_count": 17,
      "outputs": [
        {
          "output_type": "stream",
          "name": "stdout",
          "text": [
            "Accuracy: 0.034\n",
            "Log-loss: 33.348\n"
          ]
        }
      ]
    },
    {
      "cell_type": "markdown",
      "metadata": {
        "id": "j8OxXtFq4ODV"
      },
      "source": [
        "2. Logistic Regression"
      ]
    },
    {
      "cell_type": "code",
      "metadata": {
        "trusted": true,
        "id": "Zed5bO5_dusw",
        "outputId": "eb4f5a47-ea16-4931-dd84-e0f4aaa600f7",
        "colab": {
          "base_uri": "https://localhost:8080/"
        }
      },
      "source": [
        "#logistic regression\n",
        "lr = LogisticRegression(solver='newton-cg', multi_class='multinomial')\n",
        "\n",
        "param_grid = {'C': [ 1000, 10000],\n",
        "              'tol': [0.000001, 0.00001]}\n",
        "grid_search = GridSearchCV(lr, param_grid, scoring='neg_log_loss', refit='True', n_jobs=1, cv=ss_split)\n",
        "grid_search.fit(x_train, y_train)\n",
        "\n",
        "print ('Best parameter: {}'.format(grid_search.best_params_))\n",
        "print ('Best cross-validation neg_log_loss score: {}'.format(grid_search.best_score_))\n",
        "print ('\\nBest estimator:\\n{}'.format(grid_search.best_estimator_))"
      ],
      "execution_count": 18,
      "outputs": [
        {
          "output_type": "stream",
          "name": "stdout",
          "text": [
            "Best parameter: {'C': 1000, 'tol': 1e-05}\n",
            "Best cross-validation neg_log_loss score: -0.0888913052443087\n",
            "\n",
            "Best estimator:\n",
            "LogisticRegression(C=1000, multi_class='multinomial', solver='newton-cg',\n",
            "                   tol=1e-05)\n"
          ]
        }
      ]
    },
    {
      "cell_type": "code",
      "metadata": {
        "trusted": true,
        "id": "Mmr1nYtGdus0"
      },
      "source": [
        "pred_lr = grid_search.predict_proba(x_test)"
      ],
      "execution_count": 19,
      "outputs": []
    },
    {
      "cell_type": "code",
      "metadata": {
        "trusted": true,
        "id": "-gAs-1_Fdus3",
        "outputId": "f28eb916-23f6-4635-a6d8-391b8cade6d2",
        "colab": {
          "base_uri": "https://localhost:8080/"
        }
      },
      "source": [
        "print(\"Accuracy: %.3f\"\n",
        "      % (accuracy_score(y_test, grid_search.predict(x_test))))\n",
        "print(\"Log-loss: %.3f\"\n",
        "      % (log_loss(y_test, pred_lr)))"
      ],
      "execution_count": 20,
      "outputs": [
        {
          "output_type": "stream",
          "name": "stdout",
          "text": [
            "Accuracy: 0.983\n",
            "Log-loss: 0.066\n"
          ]
        }
      ]
    },
    {
      "cell_type": "code",
      "metadata": {
        "trusted": true,
        "id": "MqNOHrMLdus-"
      },
      "source": [
        "param_grid = {'C': [1000],\n",
        "              'tol': [0.00001]}\n",
        "log_reg = LogisticRegression(solver='newton-cg', multi_class='multinomial')\n",
        "grid_search = GridSearchCV(log_reg, param_grid, scoring='neg_log_loss', refit='True', n_jobs=1, cv=ss_split)\n",
        "grid_search.fit(x_train, y_train)\n",
        "\n",
        "test_pred = grid_search.predict_proba(test_scaled)\n",
        "\n",
        "sub = pd.DataFrame(test_pred, index=test_ids, columns=lb.classes_)"
      ],
      "execution_count": 21,
      "outputs": []
    },
    {
      "cell_type": "code",
      "metadata": {
        "trusted": true,
        "id": "H-_j208CdutD",
        "outputId": "60feb60f-be59-47a8-b90b-5acb49b85ed9",
        "colab": {
          "base_uri": "https://localhost:8080/",
          "height": 227
        }
      },
      "source": [
        "sub.head(2)"
      ],
      "execution_count": 22,
      "outputs": [
        {
          "output_type": "execute_result",
          "data": {
            "text/html": [
              "<div>\n",
              "<style scoped>\n",
              "    .dataframe tbody tr th:only-of-type {\n",
              "        vertical-align: middle;\n",
              "    }\n",
              "\n",
              "    .dataframe tbody tr th {\n",
              "        vertical-align: top;\n",
              "    }\n",
              "\n",
              "    .dataframe thead th {\n",
              "        text-align: right;\n",
              "    }\n",
              "</style>\n",
              "<table border=\"1\" class=\"dataframe\">\n",
              "  <thead>\n",
              "    <tr style=\"text-align: right;\">\n",
              "      <th></th>\n",
              "      <th>Acer_Capillipes</th>\n",
              "      <th>Acer_Circinatum</th>\n",
              "      <th>Acer_Mono</th>\n",
              "      <th>Acer_Opalus</th>\n",
              "      <th>Acer_Palmatum</th>\n",
              "      <th>Acer_Pictum</th>\n",
              "      <th>Acer_Platanoids</th>\n",
              "      <th>Acer_Rubrum</th>\n",
              "      <th>Acer_Rufinerve</th>\n",
              "      <th>Acer_Saccharinum</th>\n",
              "      <th>Alnus_Cordata</th>\n",
              "      <th>Alnus_Maximowiczii</th>\n",
              "      <th>Alnus_Rubra</th>\n",
              "      <th>Alnus_Sieboldiana</th>\n",
              "      <th>Alnus_Viridis</th>\n",
              "      <th>Arundinaria_Simonii</th>\n",
              "      <th>Betula_Austrosinensis</th>\n",
              "      <th>Betula_Pendula</th>\n",
              "      <th>Callicarpa_Bodinieri</th>\n",
              "      <th>Castanea_Sativa</th>\n",
              "      <th>Celtis_Koraiensis</th>\n",
              "      <th>Cercis_Siliquastrum</th>\n",
              "      <th>Cornus_Chinensis</th>\n",
              "      <th>Cornus_Controversa</th>\n",
              "      <th>Cornus_Macrophylla</th>\n",
              "      <th>Cotinus_Coggygria</th>\n",
              "      <th>Crataegus_Monogyna</th>\n",
              "      <th>Cytisus_Battandieri</th>\n",
              "      <th>Eucalyptus_Glaucescens</th>\n",
              "      <th>Eucalyptus_Neglecta</th>\n",
              "      <th>Eucalyptus_Urnigera</th>\n",
              "      <th>Fagus_Sylvatica</th>\n",
              "      <th>Ginkgo_Biloba</th>\n",
              "      <th>Ilex_Aquifolium</th>\n",
              "      <th>Ilex_Cornuta</th>\n",
              "      <th>Liquidambar_Styraciflua</th>\n",
              "      <th>Liriodendron_Tulipifera</th>\n",
              "      <th>Lithocarpus_Cleistocarpus</th>\n",
              "      <th>Lithocarpus_Edulis</th>\n",
              "      <th>Magnolia_Heptapeta</th>\n",
              "      <th>...</th>\n",
              "      <th>Quercus_Coccinea</th>\n",
              "      <th>Quercus_Crassifolia</th>\n",
              "      <th>Quercus_Crassipes</th>\n",
              "      <th>Quercus_Dolicholepis</th>\n",
              "      <th>Quercus_Ellipsoidalis</th>\n",
              "      <th>Quercus_Greggii</th>\n",
              "      <th>Quercus_Hartwissiana</th>\n",
              "      <th>Quercus_Ilex</th>\n",
              "      <th>Quercus_Imbricaria</th>\n",
              "      <th>Quercus_Infectoria_sub</th>\n",
              "      <th>Quercus_Kewensis</th>\n",
              "      <th>Quercus_Nigra</th>\n",
              "      <th>Quercus_Palustris</th>\n",
              "      <th>Quercus_Phellos</th>\n",
              "      <th>Quercus_Phillyraeoides</th>\n",
              "      <th>Quercus_Pontica</th>\n",
              "      <th>Quercus_Pubescens</th>\n",
              "      <th>Quercus_Pyrenaica</th>\n",
              "      <th>Quercus_Rhysophylla</th>\n",
              "      <th>Quercus_Rubra</th>\n",
              "      <th>Quercus_Semecarpifolia</th>\n",
              "      <th>Quercus_Shumardii</th>\n",
              "      <th>Quercus_Suber</th>\n",
              "      <th>Quercus_Texana</th>\n",
              "      <th>Quercus_Trojana</th>\n",
              "      <th>Quercus_Variabilis</th>\n",
              "      <th>Quercus_Vulcanica</th>\n",
              "      <th>Quercus_x_Hispanica</th>\n",
              "      <th>Quercus_x_Turneri</th>\n",
              "      <th>Rhododendron_x_Russellianum</th>\n",
              "      <th>Salix_Fragilis</th>\n",
              "      <th>Salix_Intergra</th>\n",
              "      <th>Sorbus_Aria</th>\n",
              "      <th>Tilia_Oliveri</th>\n",
              "      <th>Tilia_Platyphyllos</th>\n",
              "      <th>Tilia_Tomentosa</th>\n",
              "      <th>Ulmus_Bergmanniana</th>\n",
              "      <th>Viburnum_Tinus</th>\n",
              "      <th>Viburnum_x_Rhytidophylloides</th>\n",
              "      <th>Zelkova_Serrata</th>\n",
              "    </tr>\n",
              "    <tr>\n",
              "      <th>id</th>\n",
              "      <th></th>\n",
              "      <th></th>\n",
              "      <th></th>\n",
              "      <th></th>\n",
              "      <th></th>\n",
              "      <th></th>\n",
              "      <th></th>\n",
              "      <th></th>\n",
              "      <th></th>\n",
              "      <th></th>\n",
              "      <th></th>\n",
              "      <th></th>\n",
              "      <th></th>\n",
              "      <th></th>\n",
              "      <th></th>\n",
              "      <th></th>\n",
              "      <th></th>\n",
              "      <th></th>\n",
              "      <th></th>\n",
              "      <th></th>\n",
              "      <th></th>\n",
              "      <th></th>\n",
              "      <th></th>\n",
              "      <th></th>\n",
              "      <th></th>\n",
              "      <th></th>\n",
              "      <th></th>\n",
              "      <th></th>\n",
              "      <th></th>\n",
              "      <th></th>\n",
              "      <th></th>\n",
              "      <th></th>\n",
              "      <th></th>\n",
              "      <th></th>\n",
              "      <th></th>\n",
              "      <th></th>\n",
              "      <th></th>\n",
              "      <th></th>\n",
              "      <th></th>\n",
              "      <th></th>\n",
              "      <th></th>\n",
              "      <th></th>\n",
              "      <th></th>\n",
              "      <th></th>\n",
              "      <th></th>\n",
              "      <th></th>\n",
              "      <th></th>\n",
              "      <th></th>\n",
              "      <th></th>\n",
              "      <th></th>\n",
              "      <th></th>\n",
              "      <th></th>\n",
              "      <th></th>\n",
              "      <th></th>\n",
              "      <th></th>\n",
              "      <th></th>\n",
              "      <th></th>\n",
              "      <th></th>\n",
              "      <th></th>\n",
              "      <th></th>\n",
              "      <th></th>\n",
              "      <th></th>\n",
              "      <th></th>\n",
              "      <th></th>\n",
              "      <th></th>\n",
              "      <th></th>\n",
              "      <th></th>\n",
              "      <th></th>\n",
              "      <th></th>\n",
              "      <th></th>\n",
              "      <th></th>\n",
              "      <th></th>\n",
              "      <th></th>\n",
              "      <th></th>\n",
              "      <th></th>\n",
              "      <th></th>\n",
              "      <th></th>\n",
              "      <th></th>\n",
              "      <th></th>\n",
              "      <th></th>\n",
              "      <th></th>\n",
              "    </tr>\n",
              "  </thead>\n",
              "  <tbody>\n",
              "    <tr>\n",
              "      <th>1509</th>\n",
              "      <td>6.536719e-07</td>\n",
              "      <td>4.947098e-09</td>\n",
              "      <td>5.382338e-07</td>\n",
              "      <td>6.113461e-06</td>\n",
              "      <td>1.865319e-09</td>\n",
              "      <td>1.327993e-09</td>\n",
              "      <td>4.747781e-08</td>\n",
              "      <td>6.541224e-10</td>\n",
              "      <td>1.256163e-08</td>\n",
              "      <td>8.155319e-10</td>\n",
              "      <td>2.019871e-07</td>\n",
              "      <td>7.000681e-10</td>\n",
              "      <td>6.933646e-10</td>\n",
              "      <td>5.009953e-12</td>\n",
              "      <td>4.753673e-10</td>\n",
              "      <td>7.073160e-09</td>\n",
              "      <td>2.119825e-10</td>\n",
              "      <td>2.848028e-09</td>\n",
              "      <td>3.910068e-08</td>\n",
              "      <td>5.208802e-07</td>\n",
              "      <td>7.641794e-10</td>\n",
              "      <td>1.384031e-08</td>\n",
              "      <td>1.283528e-09</td>\n",
              "      <td>1.285951e-10</td>\n",
              "      <td>2.437543e-07</td>\n",
              "      <td>9.838221e-10</td>\n",
              "      <td>2.698399e-08</td>\n",
              "      <td>1.831692e-06</td>\n",
              "      <td>1.332753e-10</td>\n",
              "      <td>7.406387e-08</td>\n",
              "      <td>0.000001</td>\n",
              "      <td>6.834956e-09</td>\n",
              "      <td>1.101492e-07</td>\n",
              "      <td>1.105213e-09</td>\n",
              "      <td>2.463362e-06</td>\n",
              "      <td>1.743484e-09</td>\n",
              "      <td>1.017856e-07</td>\n",
              "      <td>2.921882e-08</td>\n",
              "      <td>1.693038e-06</td>\n",
              "      <td>8.867547e-10</td>\n",
              "      <td>...</td>\n",
              "      <td>5.233244e-08</td>\n",
              "      <td>7.431645e-09</td>\n",
              "      <td>0.000058</td>\n",
              "      <td>5.020712e-09</td>\n",
              "      <td>2.148408e-08</td>\n",
              "      <td>1.200277e-09</td>\n",
              "      <td>6.898290e-11</td>\n",
              "      <td>7.453443e-10</td>\n",
              "      <td>1.132127e-05</td>\n",
              "      <td>0.000029</td>\n",
              "      <td>7.929191e-04</td>\n",
              "      <td>7.736317e-09</td>\n",
              "      <td>7.370345e-08</td>\n",
              "      <td>5.885256e-08</td>\n",
              "      <td>0.000003</td>\n",
              "      <td>6.163761e-15</td>\n",
              "      <td>5.314372e-09</td>\n",
              "      <td>8.118181e-06</td>\n",
              "      <td>3.541335e-10</td>\n",
              "      <td>1.892990e-11</td>\n",
              "      <td>1.925755e-07</td>\n",
              "      <td>5.387909e-11</td>\n",
              "      <td>0.000003</td>\n",
              "      <td>7.550146e-07</td>\n",
              "      <td>1.132573e-10</td>\n",
              "      <td>2.713507e-07</td>\n",
              "      <td>2.816114e-07</td>\n",
              "      <td>3.700440e-08</td>\n",
              "      <td>1.128320e-07</td>\n",
              "      <td>4.458283e-12</td>\n",
              "      <td>5.071871e-07</td>\n",
              "      <td>0.999062</td>\n",
              "      <td>3.138835e-11</td>\n",
              "      <td>5.360539e-10</td>\n",
              "      <td>9.953696e-11</td>\n",
              "      <td>1.015628e-07</td>\n",
              "      <td>2.854759e-09</td>\n",
              "      <td>2.189001e-06</td>\n",
              "      <td>1.727421e-10</td>\n",
              "      <td>6.611966e-08</td>\n",
              "    </tr>\n",
              "    <tr>\n",
              "      <th>1339</th>\n",
              "      <td>1.422939e-07</td>\n",
              "      <td>1.903676e-08</td>\n",
              "      <td>2.031858e-06</td>\n",
              "      <td>5.418585e-07</td>\n",
              "      <td>1.882825e-06</td>\n",
              "      <td>1.780179e-07</td>\n",
              "      <td>1.342394e-07</td>\n",
              "      <td>1.818578e-05</td>\n",
              "      <td>4.465459e-09</td>\n",
              "      <td>1.288262e-06</td>\n",
              "      <td>2.944581e-04</td>\n",
              "      <td>1.300751e-06</td>\n",
              "      <td>1.315526e-06</td>\n",
              "      <td>3.629810e-06</td>\n",
              "      <td>7.865040e-08</td>\n",
              "      <td>8.984331e-08</td>\n",
              "      <td>3.699012e-10</td>\n",
              "      <td>4.211885e-08</td>\n",
              "      <td>2.816907e-06</td>\n",
              "      <td>4.440921e-07</td>\n",
              "      <td>2.240024e-07</td>\n",
              "      <td>8.200852e-06</td>\n",
              "      <td>4.929474e-06</td>\n",
              "      <td>2.325477e-07</td>\n",
              "      <td>2.345494e-06</td>\n",
              "      <td>7.226347e-07</td>\n",
              "      <td>4.357241e-08</td>\n",
              "      <td>5.374155e-09</td>\n",
              "      <td>5.105282e-06</td>\n",
              "      <td>1.738872e-07</td>\n",
              "      <td>0.000008</td>\n",
              "      <td>1.680270e-05</td>\n",
              "      <td>3.522990e-06</td>\n",
              "      <td>5.385982e-06</td>\n",
              "      <td>1.282794e-09</td>\n",
              "      <td>1.691399e-06</td>\n",
              "      <td>2.595568e-08</td>\n",
              "      <td>5.354794e-10</td>\n",
              "      <td>1.002323e-08</td>\n",
              "      <td>1.356359e-10</td>\n",
              "      <td>...</td>\n",
              "      <td>1.624648e-08</td>\n",
              "      <td>4.865267e-07</td>\n",
              "      <td>0.000009</td>\n",
              "      <td>5.282908e-06</td>\n",
              "      <td>9.560893e-10</td>\n",
              "      <td>4.284480e-05</td>\n",
              "      <td>6.830833e-05</td>\n",
              "      <td>4.121967e-07</td>\n",
              "      <td>8.644609e-07</td>\n",
              "      <td>0.996132</td>\n",
              "      <td>2.277644e-07</td>\n",
              "      <td>4.634875e-05</td>\n",
              "      <td>3.586177e-07</td>\n",
              "      <td>2.373187e-08</td>\n",
              "      <td>0.000160</td>\n",
              "      <td>1.061432e-08</td>\n",
              "      <td>6.815806e-06</td>\n",
              "      <td>1.212834e-08</td>\n",
              "      <td>3.939502e-08</td>\n",
              "      <td>1.436675e-08</td>\n",
              "      <td>6.970682e-06</td>\n",
              "      <td>2.486950e-06</td>\n",
              "      <td>0.000003</td>\n",
              "      <td>1.148851e-11</td>\n",
              "      <td>2.664420e-07</td>\n",
              "      <td>5.339665e-09</td>\n",
              "      <td>7.278526e-08</td>\n",
              "      <td>6.639681e-04</td>\n",
              "      <td>1.426190e-10</td>\n",
              "      <td>1.759766e-07</td>\n",
              "      <td>2.292816e-09</td>\n",
              "      <td>0.000004</td>\n",
              "      <td>3.994582e-07</td>\n",
              "      <td>1.958845e-03</td>\n",
              "      <td>2.310203e-06</td>\n",
              "      <td>1.811124e-08</td>\n",
              "      <td>2.674175e-10</td>\n",
              "      <td>4.945565e-08</td>\n",
              "      <td>2.069126e-07</td>\n",
              "      <td>1.004035e-04</td>\n",
              "    </tr>\n",
              "  </tbody>\n",
              "</table>\n",
              "<p>2 rows × 99 columns</p>\n",
              "</div>"
            ],
            "text/plain": [
              "      Acer_Capillipes  ...  Zelkova_Serrata\n",
              "id                     ...                 \n",
              "1509     6.536719e-07  ...     6.611966e-08\n",
              "1339     1.422939e-07  ...     1.004035e-04\n",
              "\n",
              "[2 rows x 99 columns]"
            ]
          },
          "metadata": {},
          "execution_count": 22
        }
      ]
    },
    {
      "cell_type": "code",
      "metadata": {
        "trusted": true,
        "id": "iC9k8hQbdutL",
        "outputId": "ec8e4c38-9abf-492a-9be8-98e1512c851e",
        "colab": {
          "base_uri": "https://localhost:8080/"
        }
      },
      "source": [
        "#svm\n",
        "param_grid = {'C': [0.001, 0.01, 0.1, 1, 10, 100],\n",
        "              'gamma': [0.001, 0.01, 0.1, 1, 10, 100]}\n",
        "\n",
        "grid_search = GridSearchCV(SVC(probability=True), param_grid=param_grid, cv=ss_split)\n",
        "grid_search.fit(x_train, y_train)\n",
        "\n",
        "print ('Best parameter: {}'.format(grid_search.best_params_))\n",
        "print ('Best cross-validation neg_log_loss score: {}'.format(grid_search.best_score_))\n",
        "print ('\\nBest estimator:\\n{}'.format(grid_search.best_estimator_))"
      ],
      "execution_count": 23,
      "outputs": [
        {
          "output_type": "stream",
          "name": "stdout",
          "text": [
            "Best parameter: {'C': 1, 'gamma': 0.01}\n",
            "Best cross-validation neg_log_loss score: 0.9700000000000001\n",
            "\n",
            "Best estimator:\n",
            "SVC(C=1, gamma=0.01, probability=True)\n"
          ]
        }
      ]
    },
    {
      "cell_type": "code",
      "metadata": {
        "trusted": true,
        "id": "e3cb2lQ4dutP"
      },
      "source": [
        "pred_svm = grid_search.predict_proba(x_test)"
      ],
      "execution_count": 24,
      "outputs": []
    },
    {
      "cell_type": "code",
      "metadata": {
        "trusted": true,
        "id": "7GgNhHVCdutR",
        "outputId": "b4cb259b-a51d-4deb-f32d-dff1aa6fec35",
        "colab": {
          "base_uri": "https://localhost:8080/"
        }
      },
      "source": [
        "print(\"Accuracy: %.3f\"\n",
        "      % (accuracy_score(y_test, grid_search.predict(x_test))))\n",
        "print(\"Log-loss: %.3f\"\n",
        "      % (log_loss(y_test, pred_svm)))"
      ],
      "execution_count": 25,
      "outputs": [
        {
          "output_type": "stream",
          "name": "stdout",
          "text": [
            "Accuracy: 0.977\n",
            "Log-loss: 2.720\n"
          ]
        }
      ]
    },
    {
      "cell_type": "markdown",
      "metadata": {
        "id": "mOxlWuhm4OEI"
      },
      "source": [
        "3. KNN"
      ]
    },
    {
      "cell_type": "code",
      "metadata": {
        "id": "XYP5pVrkkKvf",
        "outputId": "973c395f-f7e9-4a54-d2db-c41e5a1fd2ef",
        "trusted": true,
        "colab": {
          "base_uri": "https://localhost:8080/"
        }
      },
      "source": [
        "#knn\n",
        "knn = KNeighborsClassifier()\n",
        "\n",
        "knn.fit(x_train, y_train)"
      ],
      "execution_count": 26,
      "outputs": [
        {
          "output_type": "execute_result",
          "data": {
            "text/plain": [
              "KNeighborsClassifier()"
            ]
          },
          "metadata": {},
          "execution_count": 26
        }
      ]
    },
    {
      "cell_type": "code",
      "metadata": {
        "id": "zi00fQjRkUel",
        "trusted": true
      },
      "source": [
        "pred_knn = knn.predict_proba(x_test)"
      ],
      "execution_count": 27,
      "outputs": []
    },
    {
      "cell_type": "code",
      "metadata": {
        "id": "2-wuwkAXkdN9",
        "outputId": "f59a1e37-af8d-4acc-c6ff-5a2f2573efb0",
        "trusted": true,
        "colab": {
          "base_uri": "https://localhost:8080/"
        }
      },
      "source": [
        "print(\"Accuracy: %.3f\"\n",
        "      % (accuracy_score(y_test, knn.predict(x_test))))\n",
        "print(\"Log-loss: %.3f\"\n",
        "      % (log_loss(y_test, pred_knn)))"
      ],
      "execution_count": 28,
      "outputs": [
        {
          "output_type": "stream",
          "name": "stdout",
          "text": [
            "Accuracy: 0.954\n",
            "Log-loss: 0.419\n"
          ]
        }
      ]
    },
    {
      "cell_type": "code",
      "metadata": {
        "trusted": true,
        "id": "MC2x-hLS4OES"
      },
      "source": [
        "test_predict =knn.predict_proba(test_scaled)\n",
        "\n",
        "sub3 = pd.DataFrame(test_predict, index=test_ids, columns=lb.classes_)"
      ],
      "execution_count": 29,
      "outputs": []
    },
    {
      "cell_type": "code",
      "metadata": {
        "trusted": true,
        "id": "rIkrdZeG4OEU",
        "outputId": "d94a5452-16ed-4f40-c0d4-8c8979a9e1ca",
        "colab": {
          "base_uri": "https://localhost:8080/",
          "height": 192
        }
      },
      "source": [
        "sub3.head(2)"
      ],
      "execution_count": 30,
      "outputs": [
        {
          "output_type": "execute_result",
          "data": {
            "text/html": [
              "<div>\n",
              "<style scoped>\n",
              "    .dataframe tbody tr th:only-of-type {\n",
              "        vertical-align: middle;\n",
              "    }\n",
              "\n",
              "    .dataframe tbody tr th {\n",
              "        vertical-align: top;\n",
              "    }\n",
              "\n",
              "    .dataframe thead th {\n",
              "        text-align: right;\n",
              "    }\n",
              "</style>\n",
              "<table border=\"1\" class=\"dataframe\">\n",
              "  <thead>\n",
              "    <tr style=\"text-align: right;\">\n",
              "      <th></th>\n",
              "      <th>Acer_Capillipes</th>\n",
              "      <th>Acer_Circinatum</th>\n",
              "      <th>Acer_Mono</th>\n",
              "      <th>Acer_Opalus</th>\n",
              "      <th>Acer_Palmatum</th>\n",
              "      <th>Acer_Pictum</th>\n",
              "      <th>Acer_Platanoids</th>\n",
              "      <th>Acer_Rubrum</th>\n",
              "      <th>Acer_Rufinerve</th>\n",
              "      <th>Acer_Saccharinum</th>\n",
              "      <th>Alnus_Cordata</th>\n",
              "      <th>Alnus_Maximowiczii</th>\n",
              "      <th>Alnus_Rubra</th>\n",
              "      <th>Alnus_Sieboldiana</th>\n",
              "      <th>Alnus_Viridis</th>\n",
              "      <th>Arundinaria_Simonii</th>\n",
              "      <th>Betula_Austrosinensis</th>\n",
              "      <th>Betula_Pendula</th>\n",
              "      <th>Callicarpa_Bodinieri</th>\n",
              "      <th>Castanea_Sativa</th>\n",
              "      <th>Celtis_Koraiensis</th>\n",
              "      <th>Cercis_Siliquastrum</th>\n",
              "      <th>Cornus_Chinensis</th>\n",
              "      <th>Cornus_Controversa</th>\n",
              "      <th>Cornus_Macrophylla</th>\n",
              "      <th>Cotinus_Coggygria</th>\n",
              "      <th>Crataegus_Monogyna</th>\n",
              "      <th>Cytisus_Battandieri</th>\n",
              "      <th>Eucalyptus_Glaucescens</th>\n",
              "      <th>Eucalyptus_Neglecta</th>\n",
              "      <th>Eucalyptus_Urnigera</th>\n",
              "      <th>Fagus_Sylvatica</th>\n",
              "      <th>Ginkgo_Biloba</th>\n",
              "      <th>Ilex_Aquifolium</th>\n",
              "      <th>Ilex_Cornuta</th>\n",
              "      <th>Liquidambar_Styraciflua</th>\n",
              "      <th>Liriodendron_Tulipifera</th>\n",
              "      <th>Lithocarpus_Cleistocarpus</th>\n",
              "      <th>Lithocarpus_Edulis</th>\n",
              "      <th>Magnolia_Heptapeta</th>\n",
              "      <th>...</th>\n",
              "      <th>Quercus_Coccinea</th>\n",
              "      <th>Quercus_Crassifolia</th>\n",
              "      <th>Quercus_Crassipes</th>\n",
              "      <th>Quercus_Dolicholepis</th>\n",
              "      <th>Quercus_Ellipsoidalis</th>\n",
              "      <th>Quercus_Greggii</th>\n",
              "      <th>Quercus_Hartwissiana</th>\n",
              "      <th>Quercus_Ilex</th>\n",
              "      <th>Quercus_Imbricaria</th>\n",
              "      <th>Quercus_Infectoria_sub</th>\n",
              "      <th>Quercus_Kewensis</th>\n",
              "      <th>Quercus_Nigra</th>\n",
              "      <th>Quercus_Palustris</th>\n",
              "      <th>Quercus_Phellos</th>\n",
              "      <th>Quercus_Phillyraeoides</th>\n",
              "      <th>Quercus_Pontica</th>\n",
              "      <th>Quercus_Pubescens</th>\n",
              "      <th>Quercus_Pyrenaica</th>\n",
              "      <th>Quercus_Rhysophylla</th>\n",
              "      <th>Quercus_Rubra</th>\n",
              "      <th>Quercus_Semecarpifolia</th>\n",
              "      <th>Quercus_Shumardii</th>\n",
              "      <th>Quercus_Suber</th>\n",
              "      <th>Quercus_Texana</th>\n",
              "      <th>Quercus_Trojana</th>\n",
              "      <th>Quercus_Variabilis</th>\n",
              "      <th>Quercus_Vulcanica</th>\n",
              "      <th>Quercus_x_Hispanica</th>\n",
              "      <th>Quercus_x_Turneri</th>\n",
              "      <th>Rhododendron_x_Russellianum</th>\n",
              "      <th>Salix_Fragilis</th>\n",
              "      <th>Salix_Intergra</th>\n",
              "      <th>Sorbus_Aria</th>\n",
              "      <th>Tilia_Oliveri</th>\n",
              "      <th>Tilia_Platyphyllos</th>\n",
              "      <th>Tilia_Tomentosa</th>\n",
              "      <th>Ulmus_Bergmanniana</th>\n",
              "      <th>Viburnum_Tinus</th>\n",
              "      <th>Viburnum_x_Rhytidophylloides</th>\n",
              "      <th>Zelkova_Serrata</th>\n",
              "    </tr>\n",
              "    <tr>\n",
              "      <th>id</th>\n",
              "      <th></th>\n",
              "      <th></th>\n",
              "      <th></th>\n",
              "      <th></th>\n",
              "      <th></th>\n",
              "      <th></th>\n",
              "      <th></th>\n",
              "      <th></th>\n",
              "      <th></th>\n",
              "      <th></th>\n",
              "      <th></th>\n",
              "      <th></th>\n",
              "      <th></th>\n",
              "      <th></th>\n",
              "      <th></th>\n",
              "      <th></th>\n",
              "      <th></th>\n",
              "      <th></th>\n",
              "      <th></th>\n",
              "      <th></th>\n",
              "      <th></th>\n",
              "      <th></th>\n",
              "      <th></th>\n",
              "      <th></th>\n",
              "      <th></th>\n",
              "      <th></th>\n",
              "      <th></th>\n",
              "      <th></th>\n",
              "      <th></th>\n",
              "      <th></th>\n",
              "      <th></th>\n",
              "      <th></th>\n",
              "      <th></th>\n",
              "      <th></th>\n",
              "      <th></th>\n",
              "      <th></th>\n",
              "      <th></th>\n",
              "      <th></th>\n",
              "      <th></th>\n",
              "      <th></th>\n",
              "      <th></th>\n",
              "      <th></th>\n",
              "      <th></th>\n",
              "      <th></th>\n",
              "      <th></th>\n",
              "      <th></th>\n",
              "      <th></th>\n",
              "      <th></th>\n",
              "      <th></th>\n",
              "      <th></th>\n",
              "      <th></th>\n",
              "      <th></th>\n",
              "      <th></th>\n",
              "      <th></th>\n",
              "      <th></th>\n",
              "      <th></th>\n",
              "      <th></th>\n",
              "      <th></th>\n",
              "      <th></th>\n",
              "      <th></th>\n",
              "      <th></th>\n",
              "      <th></th>\n",
              "      <th></th>\n",
              "      <th></th>\n",
              "      <th></th>\n",
              "      <th></th>\n",
              "      <th></th>\n",
              "      <th></th>\n",
              "      <th></th>\n",
              "      <th></th>\n",
              "      <th></th>\n",
              "      <th></th>\n",
              "      <th></th>\n",
              "      <th></th>\n",
              "      <th></th>\n",
              "      <th></th>\n",
              "      <th></th>\n",
              "      <th></th>\n",
              "      <th></th>\n",
              "      <th></th>\n",
              "      <th></th>\n",
              "    </tr>\n",
              "  </thead>\n",
              "  <tbody>\n",
              "    <tr>\n",
              "      <th>1509</th>\n",
              "      <td>0.0</td>\n",
              "      <td>0.0</td>\n",
              "      <td>0.0</td>\n",
              "      <td>0.0</td>\n",
              "      <td>0.0</td>\n",
              "      <td>0.0</td>\n",
              "      <td>0.0</td>\n",
              "      <td>0.0</td>\n",
              "      <td>0.0</td>\n",
              "      <td>0.0</td>\n",
              "      <td>0.0</td>\n",
              "      <td>0.0</td>\n",
              "      <td>0.0</td>\n",
              "      <td>0.0</td>\n",
              "      <td>0.0</td>\n",
              "      <td>0.0</td>\n",
              "      <td>0.0</td>\n",
              "      <td>0.0</td>\n",
              "      <td>0.0</td>\n",
              "      <td>0.0</td>\n",
              "      <td>0.0</td>\n",
              "      <td>0.0</td>\n",
              "      <td>0.0</td>\n",
              "      <td>0.0</td>\n",
              "      <td>0.0</td>\n",
              "      <td>0.0</td>\n",
              "      <td>0.0</td>\n",
              "      <td>0.0</td>\n",
              "      <td>0.0</td>\n",
              "      <td>0.0</td>\n",
              "      <td>0.0</td>\n",
              "      <td>0.0</td>\n",
              "      <td>0.0</td>\n",
              "      <td>0.0</td>\n",
              "      <td>0.0</td>\n",
              "      <td>0.0</td>\n",
              "      <td>0.0</td>\n",
              "      <td>0.0</td>\n",
              "      <td>0.0</td>\n",
              "      <td>0.0</td>\n",
              "      <td>...</td>\n",
              "      <td>0.0</td>\n",
              "      <td>0.0</td>\n",
              "      <td>0.0</td>\n",
              "      <td>0.0</td>\n",
              "      <td>0.0</td>\n",
              "      <td>0.0</td>\n",
              "      <td>0.0</td>\n",
              "      <td>0.0</td>\n",
              "      <td>0.0</td>\n",
              "      <td>0.0</td>\n",
              "      <td>0.0</td>\n",
              "      <td>0.0</td>\n",
              "      <td>0.0</td>\n",
              "      <td>0.0</td>\n",
              "      <td>0.0</td>\n",
              "      <td>0.0</td>\n",
              "      <td>0.0</td>\n",
              "      <td>0.0</td>\n",
              "      <td>0.0</td>\n",
              "      <td>0.0</td>\n",
              "      <td>0.0</td>\n",
              "      <td>0.0</td>\n",
              "      <td>0.0</td>\n",
              "      <td>0.0</td>\n",
              "      <td>0.0</td>\n",
              "      <td>0.0</td>\n",
              "      <td>0.0</td>\n",
              "      <td>0.0</td>\n",
              "      <td>0.0</td>\n",
              "      <td>0.0</td>\n",
              "      <td>0.0</td>\n",
              "      <td>1.0</td>\n",
              "      <td>0.0</td>\n",
              "      <td>0.0</td>\n",
              "      <td>0.0</td>\n",
              "      <td>0.0</td>\n",
              "      <td>0.0</td>\n",
              "      <td>0.0</td>\n",
              "      <td>0.0</td>\n",
              "      <td>0.0</td>\n",
              "    </tr>\n",
              "    <tr>\n",
              "      <th>1339</th>\n",
              "      <td>0.0</td>\n",
              "      <td>0.0</td>\n",
              "      <td>0.0</td>\n",
              "      <td>0.0</td>\n",
              "      <td>0.0</td>\n",
              "      <td>0.0</td>\n",
              "      <td>0.0</td>\n",
              "      <td>0.0</td>\n",
              "      <td>0.0</td>\n",
              "      <td>0.0</td>\n",
              "      <td>0.0</td>\n",
              "      <td>0.0</td>\n",
              "      <td>0.0</td>\n",
              "      <td>0.0</td>\n",
              "      <td>0.0</td>\n",
              "      <td>0.0</td>\n",
              "      <td>0.0</td>\n",
              "      <td>0.0</td>\n",
              "      <td>0.0</td>\n",
              "      <td>0.0</td>\n",
              "      <td>0.0</td>\n",
              "      <td>0.0</td>\n",
              "      <td>0.0</td>\n",
              "      <td>0.0</td>\n",
              "      <td>0.0</td>\n",
              "      <td>0.0</td>\n",
              "      <td>0.0</td>\n",
              "      <td>0.0</td>\n",
              "      <td>0.0</td>\n",
              "      <td>0.0</td>\n",
              "      <td>0.0</td>\n",
              "      <td>0.0</td>\n",
              "      <td>0.0</td>\n",
              "      <td>0.0</td>\n",
              "      <td>0.0</td>\n",
              "      <td>0.0</td>\n",
              "      <td>0.0</td>\n",
              "      <td>0.0</td>\n",
              "      <td>0.0</td>\n",
              "      <td>0.0</td>\n",
              "      <td>...</td>\n",
              "      <td>0.0</td>\n",
              "      <td>0.0</td>\n",
              "      <td>0.0</td>\n",
              "      <td>0.0</td>\n",
              "      <td>0.0</td>\n",
              "      <td>0.0</td>\n",
              "      <td>0.0</td>\n",
              "      <td>0.0</td>\n",
              "      <td>0.0</td>\n",
              "      <td>0.8</td>\n",
              "      <td>0.0</td>\n",
              "      <td>0.0</td>\n",
              "      <td>0.0</td>\n",
              "      <td>0.0</td>\n",
              "      <td>0.0</td>\n",
              "      <td>0.0</td>\n",
              "      <td>0.0</td>\n",
              "      <td>0.0</td>\n",
              "      <td>0.0</td>\n",
              "      <td>0.0</td>\n",
              "      <td>0.0</td>\n",
              "      <td>0.0</td>\n",
              "      <td>0.0</td>\n",
              "      <td>0.0</td>\n",
              "      <td>0.0</td>\n",
              "      <td>0.0</td>\n",
              "      <td>0.0</td>\n",
              "      <td>0.2</td>\n",
              "      <td>0.0</td>\n",
              "      <td>0.0</td>\n",
              "      <td>0.0</td>\n",
              "      <td>0.0</td>\n",
              "      <td>0.0</td>\n",
              "      <td>0.0</td>\n",
              "      <td>0.0</td>\n",
              "      <td>0.0</td>\n",
              "      <td>0.0</td>\n",
              "      <td>0.0</td>\n",
              "      <td>0.0</td>\n",
              "      <td>0.0</td>\n",
              "    </tr>\n",
              "  </tbody>\n",
              "</table>\n",
              "<p>2 rows × 99 columns</p>\n",
              "</div>"
            ],
            "text/plain": [
              "      Acer_Capillipes  ...  Zelkova_Serrata\n",
              "id                     ...                 \n",
              "1509              0.0  ...              0.0\n",
              "1339              0.0  ...              0.0\n",
              "\n",
              "[2 rows x 99 columns]"
            ]
          },
          "metadata": {},
          "execution_count": 30
        }
      ]
    },
    {
      "cell_type": "markdown",
      "metadata": {
        "id": "RX7_gAuP4OEY"
      },
      "source": [
        "4. Decission Tree"
      ]
    },
    {
      "cell_type": "code",
      "metadata": {
        "id": "xvreAJPynzc2",
        "outputId": "2008fc71-8b59-4002-b3f5-33af7a45097e",
        "trusted": true,
        "colab": {
          "base_uri": "https://localhost:8080/"
        }
      },
      "source": [
        "#DecisionTree\n",
        "dt = DecisionTreeClassifier(criterion = \"gini\", \n",
        "            random_state = 100,max_depth=3, min_samples_leaf=5)\n",
        "dt.fit(x_train, y_train)"
      ],
      "execution_count": 31,
      "outputs": [
        {
          "output_type": "execute_result",
          "data": {
            "text/plain": [
              "DecisionTreeClassifier(max_depth=3, min_samples_leaf=5, random_state=100)"
            ]
          },
          "metadata": {},
          "execution_count": 31
        }
      ]
    },
    {
      "cell_type": "code",
      "metadata": {
        "id": "FkWJVZ4qoJ7T",
        "trusted": true
      },
      "source": [
        "pred_dt = dt.predict_proba(x_test)"
      ],
      "execution_count": 32,
      "outputs": []
    },
    {
      "cell_type": "code",
      "metadata": {
        "id": "bYz6kYI2oJvK",
        "outputId": "c9bbfa8e-c94b-4756-b65d-1f799169728a",
        "trusted": true,
        "colab": {
          "base_uri": "https://localhost:8080/"
        }
      },
      "source": [
        "print(\"Accuracy: %.3f\"\n",
        "      % (accuracy_score(y_test, dt.predict(x_test))))\n",
        "print(\"Log-loss: %.3f\"\n",
        "      % (log_loss(y_test, pred_dt)))"
      ],
      "execution_count": 33,
      "outputs": [
        {
          "output_type": "stream",
          "name": "stdout",
          "text": [
            "Accuracy: 0.040\n",
            "Log-loss: 5.430\n"
          ]
        }
      ]
    },
    {
      "cell_type": "markdown",
      "metadata": {
        "id": "90a6UvZt4OEj"
      },
      "source": [
        "5. Random Forrest"
      ]
    },
    {
      "cell_type": "code",
      "metadata": {
        "id": "6ZLWSHYYoJms",
        "outputId": "8d82232a-6462-40d1-ccc9-88c24524539d",
        "trusted": true,
        "colab": {
          "base_uri": "https://localhost:8080/"
        }
      },
      "source": [
        "#randomfforest\n",
        "rf = RandomForestClassifier(n_estimators=100, max_depth=2, random_state=0)\n",
        "rf.fit(x_train, y_train)"
      ],
      "execution_count": 34,
      "outputs": [
        {
          "output_type": "execute_result",
          "data": {
            "text/plain": [
              "RandomForestClassifier(max_depth=2, random_state=0)"
            ]
          },
          "metadata": {},
          "execution_count": 34
        }
      ]
    },
    {
      "cell_type": "code",
      "metadata": {
        "id": "JqJ-PKbnpOoS",
        "trusted": true
      },
      "source": [
        "pred_rf = rf.predict_proba(x_test)"
      ],
      "execution_count": 35,
      "outputs": []
    },
    {
      "cell_type": "code",
      "metadata": {
        "id": "iIuAs9fNpOiN",
        "outputId": "ab69965a-42d9-4468-f0a7-4e7707524b63",
        "trusted": true,
        "colab": {
          "base_uri": "https://localhost:8080/"
        }
      },
      "source": [
        "print(\"Accuracy: %.3f\"\n",
        "      % (accuracy_score(y_test, rf.predict(x_test))))\n",
        "print(\"Log-loss: %.3f\"\n",
        "      % (log_loss(y_test, pred_rf)))"
      ],
      "execution_count": 36,
      "outputs": [
        {
          "output_type": "stream",
          "name": "stdout",
          "text": [
            "Accuracy: 0.351\n",
            "Log-loss: 3.935\n"
          ]
        }
      ]
    },
    {
      "cell_type": "markdown",
      "metadata": {
        "id": "EJ8a-XaA4OEx"
      },
      "source": [
        "6. Linear Discriminant Analysis"
      ]
    },
    {
      "cell_type": "code",
      "metadata": {
        "trusted": true,
        "id": "z7ovmpQD4OEx"
      },
      "source": [
        "lda = LinearDiscriminantAnalysis().fit(x_train, y_train)"
      ],
      "execution_count": 37,
      "outputs": []
    },
    {
      "cell_type": "code",
      "metadata": {
        "trusted": true,
        "id": "FcHuYd0r4OE1",
        "outputId": "9a55e589-9886-4007-ac4c-8a90624100c8",
        "colab": {
          "base_uri": "https://localhost:8080/"
        }
      },
      "source": [
        "pred_lda = lda.predict_proba(x_test)\n",
        "\n",
        "print(\"Accuracy: %.3f\"\n",
        "      % (accuracy_score(y_test, lda.predict(x_test))))\n",
        "print(\"Log-loss: %.3f\"\n",
        "      % (log_loss(y_test, pred_lda)))"
      ],
      "execution_count": 38,
      "outputs": [
        {
          "output_type": "stream",
          "name": "stdout",
          "text": [
            "Accuracy: 0.954\n",
            "Log-loss: 1.001\n"
          ]
        }
      ]
    },
    {
      "cell_type": "code",
      "metadata": {
        "trusted": true,
        "id": "YE2iEYfw4OE4"
      },
      "source": [
        "sub.to_csv('leaves_classification.csv')"
      ],
      "execution_count": 39,
      "outputs": []
    },
    {
      "cell_type": "code",
      "metadata": {
        "trusted": true,
        "id": "Cc7IRZJTduti"
      },
      "source": [
        "!pip install -U -q PyDrive\n",
        "import os\n",
        "from pydrive.auth import GoogleAuth\n",
        "from pydrive.drive import GoogleDrive\n",
        "from google.colab import auth\n",
        "from oauth2client.client import GoogleCredentials\n",
        "\n",
        "auth.authenticate_user()\n",
        "gauth = GoogleAuth()\n",
        "gauth.credentials = GoogleCredentials.get_application_default()\n",
        "drive = GoogleDrive(gauth)\n",
        "\n",
        "csv = drive.CreateFile({'title': 'leaves_classification.csv'})\n",
        "csv.SetContentFile('leaves_classification.csv')\n",
        "csv.Upload()"
      ],
      "execution_count": 40,
      "outputs": []
    },
    {
      "cell_type": "code",
      "metadata": {
        "trusted": true,
        "id": "EmbLe9pwdutk"
      },
      "source": [
        ""
      ],
      "execution_count": null,
      "outputs": []
    }
  ]
}